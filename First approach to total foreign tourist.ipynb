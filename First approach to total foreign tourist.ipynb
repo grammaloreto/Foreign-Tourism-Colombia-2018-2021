{
 "cells": [
  {
   "cell_type": "code",
   "execution_count": 12,
   "id": "4be60aaf",
   "metadata": {},
   "outputs": [],
   "source": [
    "import numpy as np\n",
    "import pandas as pd\n",
    "import matplotlib.pyplot as plt\n",
    "import seaborn as sns"
   ]
  },
  {
   "cell_type": "code",
   "execution_count": 6,
   "id": "82e53cc4",
   "metadata": {},
   "outputs": [],
   "source": [
    "df = pd.read_csv('total_foreigntourist_arrivals_byflight.csv')"
   ]
  },
  {
   "cell_type": "code",
   "execution_count": 7,
   "id": "163ea910",
   "metadata": {},
   "outputs": [
    {
     "data": {
      "text/html": [
       "<div>\n",
       "<style scoped>\n",
       "    .dataframe tbody tr th:only-of-type {\n",
       "        vertical-align: middle;\n",
       "    }\n",
       "\n",
       "    .dataframe tbody tr th {\n",
       "        vertical-align: top;\n",
       "    }\n",
       "\n",
       "    .dataframe thead th {\n",
       "        text-align: right;\n",
       "    }\n",
       "</style>\n",
       "<table border=\"1\" class=\"dataframe\">\n",
       "  <thead>\n",
       "    <tr style=\"text-align: right;\">\n",
       "      <th></th>\n",
       "      <th>Mes</th>\n",
       "      <th>año2017</th>\n",
       "      <th>año2018</th>\n",
       "      <th>año2019</th>\n",
       "      <th>año2020</th>\n",
       "      <th>año2021</th>\n",
       "    </tr>\n",
       "  </thead>\n",
       "  <tbody>\n",
       "    <tr>\n",
       "      <th>0</th>\n",
       "      <td>Enero</td>\n",
       "      <td>134151</td>\n",
       "      <td>165197</td>\n",
       "      <td>160963</td>\n",
       "      <td>172554</td>\n",
       "      <td>43431.0</td>\n",
       "    </tr>\n",
       "    <tr>\n",
       "      <th>1</th>\n",
       "      <td>Febrero</td>\n",
       "      <td>150633</td>\n",
       "      <td>179985</td>\n",
       "      <td>182275</td>\n",
       "      <td>203114</td>\n",
       "      <td>39264.0</td>\n",
       "    </tr>\n",
       "    <tr>\n",
       "      <th>2</th>\n",
       "      <td>Marzo</td>\n",
       "      <td>143093</td>\n",
       "      <td>191521</td>\n",
       "      <td>183636</td>\n",
       "      <td>84808</td>\n",
       "      <td>56833.0</td>\n",
       "    </tr>\n",
       "    <tr>\n",
       "      <th>3</th>\n",
       "      <td>Abril</td>\n",
       "      <td>142095</td>\n",
       "      <td>154117</td>\n",
       "      <td>156779</td>\n",
       "      <td>2</td>\n",
       "      <td>42981.0</td>\n",
       "    </tr>\n",
       "    <tr>\n",
       "      <th>4</th>\n",
       "      <td>Mayo</td>\n",
       "      <td>124155</td>\n",
       "      <td>147973</td>\n",
       "      <td>146307</td>\n",
       "      <td>1</td>\n",
       "      <td>39317.0</td>\n",
       "    </tr>\n",
       "    <tr>\n",
       "      <th>5</th>\n",
       "      <td>Junio</td>\n",
       "      <td>138168</td>\n",
       "      <td>156218</td>\n",
       "      <td>152845</td>\n",
       "      <td>11</td>\n",
       "      <td>61019.0</td>\n",
       "    </tr>\n",
       "    <tr>\n",
       "      <th>6</th>\n",
       "      <td>Julio</td>\n",
       "      <td>168829</td>\n",
       "      <td>177293</td>\n",
       "      <td>186422</td>\n",
       "      <td>5</td>\n",
       "      <td>87313.0</td>\n",
       "    </tr>\n",
       "    <tr>\n",
       "      <th>7</th>\n",
       "      <td>Agosto</td>\n",
       "      <td>161281</td>\n",
       "      <td>179439</td>\n",
       "      <td>182376</td>\n",
       "      <td>15</td>\n",
       "      <td>94048.0</td>\n",
       "    </tr>\n",
       "    <tr>\n",
       "      <th>8</th>\n",
       "      <td>Septiembre</td>\n",
       "      <td>135692</td>\n",
       "      <td>142507</td>\n",
       "      <td>140451</td>\n",
       "      <td>2898</td>\n",
       "      <td>92579.0</td>\n",
       "    </tr>\n",
       "    <tr>\n",
       "      <th>9</th>\n",
       "      <td>Octubre</td>\n",
       "      <td>131919</td>\n",
       "      <td>138349</td>\n",
       "      <td>140843</td>\n",
       "      <td>22302</td>\n",
       "      <td>NaN</td>\n",
       "    </tr>\n",
       "    <tr>\n",
       "      <th>10</th>\n",
       "      <td>Noviembre</td>\n",
       "      <td>149968</td>\n",
       "      <td>168282</td>\n",
       "      <td>159824</td>\n",
       "      <td>38266</td>\n",
       "      <td>NaN</td>\n",
       "    </tr>\n",
       "    <tr>\n",
       "      <th>11</th>\n",
       "      <td>Diciembre</td>\n",
       "      <td>198404</td>\n",
       "      <td>217358</td>\n",
       "      <td>205927</td>\n",
       "      <td>74816</td>\n",
       "      <td>NaN</td>\n",
       "    </tr>\n",
       "  </tbody>\n",
       "</table>\n",
       "</div>"
      ],
      "text/plain": [
       "           Mes  año2017  año2018  año2019  año2020  año2021\n",
       "0        Enero   134151   165197   160963   172554  43431.0\n",
       "1      Febrero   150633   179985   182275   203114  39264.0\n",
       "2       Marzo    143093   191521   183636    84808  56833.0\n",
       "3       Abril    142095   154117   156779        2  42981.0\n",
       "4         Mayo   124155   147973   146307        1  39317.0\n",
       "5        Junio   138168   156218   152845       11  61019.0\n",
       "6       Julio    168829   177293   186422        5  87313.0\n",
       "7       Agosto   161281   179439   182376       15  94048.0\n",
       "8   Septiembre   135692   142507   140451     2898  92579.0\n",
       "9      Octubre   131919   138349   140843    22302      NaN\n",
       "10   Noviembre   149968   168282   159824    38266      NaN\n",
       "11   Diciembre   198404   217358   205927    74816      NaN"
      ]
     },
     "execution_count": 7,
     "metadata": {},
     "output_type": "execute_result"
    }
   ],
   "source": [
    "df"
   ]
  },
  {
   "cell_type": "code",
   "execution_count": 21,
   "id": "ebc91859",
   "metadata": {},
   "outputs": [
    {
     "data": {
      "text/plain": [
       "(12, 6)"
      ]
     },
     "execution_count": 21,
     "metadata": {},
     "output_type": "execute_result"
    }
   ],
   "source": [
    "df.shape"
   ]
  },
  {
   "cell_type": "code",
   "execution_count": 8,
   "id": "a72b64dc",
   "metadata": {},
   "outputs": [
    {
     "data": {
      "text/html": [
       "<div>\n",
       "<style scoped>\n",
       "    .dataframe tbody tr th:only-of-type {\n",
       "        vertical-align: middle;\n",
       "    }\n",
       "\n",
       "    .dataframe tbody tr th {\n",
       "        vertical-align: top;\n",
       "    }\n",
       "\n",
       "    .dataframe thead th {\n",
       "        text-align: right;\n",
       "    }\n",
       "</style>\n",
       "<table border=\"1\" class=\"dataframe\">\n",
       "  <thead>\n",
       "    <tr style=\"text-align: right;\">\n",
       "      <th></th>\n",
       "      <th>año2017</th>\n",
       "      <th>año2018</th>\n",
       "      <th>año2019</th>\n",
       "      <th>año2020</th>\n",
       "      <th>año2021</th>\n",
       "    </tr>\n",
       "  </thead>\n",
       "  <tbody>\n",
       "    <tr>\n",
       "      <th>count</th>\n",
       "      <td>12.000000</td>\n",
       "      <td>12.000000</td>\n",
       "      <td>12.000000</td>\n",
       "      <td>12.000000</td>\n",
       "      <td>9.000000</td>\n",
       "    </tr>\n",
       "    <tr>\n",
       "      <th>mean</th>\n",
       "      <td>148199.000000</td>\n",
       "      <td>168186.583333</td>\n",
       "      <td>166554.000000</td>\n",
       "      <td>49899.333333</td>\n",
       "      <td>61865.000000</td>\n",
       "    </tr>\n",
       "    <tr>\n",
       "      <th>std</th>\n",
       "      <td>20197.223184</td>\n",
       "      <td>22602.348560</td>\n",
       "      <td>20990.589727</td>\n",
       "      <td>71293.729016</td>\n",
       "      <td>23367.627303</td>\n",
       "    </tr>\n",
       "    <tr>\n",
       "      <th>min</th>\n",
       "      <td>124155.000000</td>\n",
       "      <td>138349.000000</td>\n",
       "      <td>140451.000000</td>\n",
       "      <td>1.000000</td>\n",
       "      <td>39264.000000</td>\n",
       "    </tr>\n",
       "    <tr>\n",
       "      <th>25%</th>\n",
       "      <td>135306.750000</td>\n",
       "      <td>152581.000000</td>\n",
       "      <td>151210.500000</td>\n",
       "      <td>9.500000</td>\n",
       "      <td>42981.000000</td>\n",
       "    </tr>\n",
       "    <tr>\n",
       "      <th>50%</th>\n",
       "      <td>142594.000000</td>\n",
       "      <td>166739.500000</td>\n",
       "      <td>160393.500000</td>\n",
       "      <td>12600.000000</td>\n",
       "      <td>56833.000000</td>\n",
       "    </tr>\n",
       "    <tr>\n",
       "      <th>75%</th>\n",
       "      <td>153295.000000</td>\n",
       "      <td>179575.500000</td>\n",
       "      <td>182691.000000</td>\n",
       "      <td>77314.000000</td>\n",
       "      <td>87313.000000</td>\n",
       "    </tr>\n",
       "    <tr>\n",
       "      <th>max</th>\n",
       "      <td>198404.000000</td>\n",
       "      <td>217358.000000</td>\n",
       "      <td>205927.000000</td>\n",
       "      <td>203114.000000</td>\n",
       "      <td>94048.000000</td>\n",
       "    </tr>\n",
       "  </tbody>\n",
       "</table>\n",
       "</div>"
      ],
      "text/plain": [
       "             año2017        año2018        año2019        año2020  \\\n",
       "count      12.000000      12.000000      12.000000      12.000000   \n",
       "mean   148199.000000  168186.583333  166554.000000   49899.333333   \n",
       "std     20197.223184   22602.348560   20990.589727   71293.729016   \n",
       "min    124155.000000  138349.000000  140451.000000       1.000000   \n",
       "25%    135306.750000  152581.000000  151210.500000       9.500000   \n",
       "50%    142594.000000  166739.500000  160393.500000   12600.000000   \n",
       "75%    153295.000000  179575.500000  182691.000000   77314.000000   \n",
       "max    198404.000000  217358.000000  205927.000000  203114.000000   \n",
       "\n",
       "            año2021  \n",
       "count      9.000000  \n",
       "mean   61865.000000  \n",
       "std    23367.627303  \n",
       "min    39264.000000  \n",
       "25%    42981.000000  \n",
       "50%    56833.000000  \n",
       "75%    87313.000000  \n",
       "max    94048.000000  "
      ]
     },
     "execution_count": 8,
     "metadata": {},
     "output_type": "execute_result"
    }
   ],
   "source": [
    "df.describe()"
   ]
  },
  {
   "cell_type": "markdown",
   "id": "ccf5b433",
   "metadata": {},
   "source": [
    "2018 was the best year of international tourist in Colombia even that 2019 showed better numbers in the first 9 months (75% = 182691). "
   ]
  },
  {
   "cell_type": "markdown",
   "id": "ff592a84",
   "metadata": {},
   "source": [
    "# Ploting to have a better image of our data..."
   ]
  },
  {
   "cell_type": "code",
   "execution_count": 29,
   "id": "5884367b",
   "metadata": {},
   "outputs": [
    {
     "data": {
      "image/png": "[encoded data removed]",
      "text/plain": [
       "<Figure size 720x432 with 1 Axes>"
      ]
     },
     "metadata": {},
     "output_type": "display_data"
    }
   ],
   "source": [
    "plt.figure(figsize=(10,6))\n",
    "plt.title('Foreign Entry to Colombia 2018 - 2021', fontdict={'fontweight':'bold', 'fontsize': 18} )\n",
    "\n",
    "\n",
    "\n",
    "plt.plot(df.Mes, df.año2018, 'g.-', label = '2018')\n",
    "plt.plot(df.Mes, df.año2019, 'y.-', label = '2019')\n",
    "plt.plot(df.Mes, df.año2020, 'r.-', label = '2020')\n",
    "plt.plot(df.Mes, df.año2021, 'b.-', label = '2021')\n",
    "\n",
    "\n",
    "\n",
    "plt.ylabel('Number of tourists', {'fontsize': 14})\n",
    "plt.xticks(df.Mes[::2])\n",
    "\n",
    "\n",
    "plt.legend()\n",
    "\n",
    "plt.savefig('Foreign_Tourist 18-21.png', dpi=100)\n",
    "\n",
    "plt.show()"
   ]
  },
  {
   "cell_type": "markdown",
   "id": "37a79cc9",
   "metadata": {},
   "source": [
    " Pandemic Year (2020)\n"
   ]
  },
  {
   "cell_type": "code",
   "execution_count": 27,
   "id": "96dd3379",
   "metadata": {},
   "outputs": [
    {
     "data": {
      "text/plain": [
       "Text(0.5, 1.0, 'Foreign tourist 2020')"
      ]
     },
     "execution_count": 27,
     "metadata": {},
     "output_type": "execute_result"
    },
    {
     "data": {
      "image/png": "[encoded data removed]",
      "text/plain": [
       "<Figure size 432x288 with 1 Axes>"
      ]
     },
     "metadata": {
      "needs_background": "light"
     },
     "output_type": "display_data"
    }
   ],
   "source": [
    "ax = plt.axes()\n",
    "ax.set(facecolor = \"black\")\n",
    "sns.set(rc={'figure.figsize':(15,10)})\n",
    "sns.barplot(x=df.Mes, y=df.año2020, saturation=1)\n",
    "\n",
    "plt.xticks(rotation=90,fontsize=10)\n",
    "plt.yticks(fontsize=10)\n",
    "plt.xlabel('Month',fontsize=15)\n",
    "plt.ylabel('Number of tourist',fontsize=15)\n",
    "plt.title('Foreign tourist 2020',fontsize=15,fontweight=\"bold\")"
   ]
  },
  {
   "cell_type": "markdown",
   "id": "13b67b1e",
   "metadata": {},
   "source": [
    "2021"
   ]
  },
  {
   "cell_type": "code",
   "execution_count": 20,
   "id": "ade0d21a",
   "metadata": {},
   "outputs": [
    {
     "data": {
      "text/plain": [
       "Text(0.5, 1.0, 'Foreign Tourism 2021')"
      ]
     },
     "execution_count": 20,
     "metadata": {},
     "output_type": "execute_result"
    },
    {
     "data": {
      "image/png": "[encoded data removed]",
      "text/plain": [
       "<Figure size 1008x432 with 1 Axes>"
      ]
     },
     "metadata": {
      "needs_background": "light"
     },
     "output_type": "display_data"
    }
   ],
   "source": [
    "plt.figure(figsize=(14,6))\n",
    "sns.barplot(x= df.Mes.iloc[0:9], y=df.año2021)\n",
    "plt.ylabel(\"Number of tourist\")\n",
    "\n",
    "plt.title(\"Foreign Tourism 2021\")"
   ]
  },
  {
   "cell_type": "markdown",
   "id": "e135ee45",
   "metadata": {},
   "source": [
    "After March of 2020 the different restrictions (local and international) impacted drastically the number of visitors in all parts of the world. Colombia in particualr experienced a small increment since the last months of 2020. In 2021 the number of visitors stayed in the same path and from July of 2021 the number of total foreign tourist stabilized between 90000-95000. "
   ]
  },
  {
   "cell_type": "code",
   "execution_count": null,
   "id": "810461b9",
   "metadata": {},
   "outputs": [],
   "source": []
  }
 ],
 "metadata": {
  "kernelspec": {
   "display_name": "Python 3 (ipykernel)",
   "language": "python",
   "name": "python3"
  },
  "language_info": {
   "codemirror_mode": {
    "name": "ipython",
    "version": 3
   },
   "file_extension": ".py",
   "mimetype": "text/x-python",
   "name": "python",
   "nbconvert_exporter": "python",
   "pygments_lexer": "ipython3",
   "version": "3.8.8"
  }
 },
 "nbformat": 4,
 "nbformat_minor": 5
}

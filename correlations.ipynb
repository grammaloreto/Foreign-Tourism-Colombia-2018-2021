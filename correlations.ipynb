{
 "cells": [
  {
   "cell_type": "code",
   "execution_count": 1,
   "id": "fb0b9ad9",
   "metadata": {},
   "outputs": [],
   "source": [
    "import scipy.stats\n",
    "import numpy as np\n",
    "import pandas as pd\n"
   ]
  },
  {
   "cell_type": "code",
   "execution_count": 2,
   "id": "1fe3b27e",
   "metadata": {},
   "outputs": [],
   "source": [
    "dft = pd.read_csv('total_foreigntourist_arrivals_byflight.csv')\n",
    "dfsb = pd.read_csv('sun_beach_foreigntourist.csv')"
   ]
  },
  {
   "cell_type": "code",
   "execution_count": 9,
   "id": "4a806a3a",
   "metadata": {},
   "outputs": [
    {
     "data": {
      "text/html": [
       "<div>\n",
       "<style scoped>\n",
       "    .dataframe tbody tr th:only-of-type {\n",
       "        vertical-align: middle;\n",
       "    }\n",
       "\n",
       "    .dataframe tbody tr th {\n",
       "        vertical-align: top;\n",
       "    }\n",
       "\n",
       "    .dataframe thead th {\n",
       "        text-align: right;\n",
       "    }\n",
       "</style>\n",
       "<table border=\"1\" class=\"dataframe\">\n",
       "  <thead>\n",
       "    <tr style=\"text-align: right;\">\n",
       "      <th></th>\n",
       "      <th>Mes</th>\n",
       "      <th>año2017</th>\n",
       "      <th>año2018</th>\n",
       "      <th>año2019</th>\n",
       "      <th>año2020</th>\n",
       "      <th>año2021</th>\n",
       "    </tr>\n",
       "  </thead>\n",
       "  <tbody>\n",
       "    <tr>\n",
       "      <th>7</th>\n",
       "      <td>Agosto</td>\n",
       "      <td>161281</td>\n",
       "      <td>179439</td>\n",
       "      <td>182376</td>\n",
       "      <td>15</td>\n",
       "      <td>94048.0</td>\n",
       "    </tr>\n",
       "    <tr>\n",
       "      <th>8</th>\n",
       "      <td>Septiembre</td>\n",
       "      <td>135692</td>\n",
       "      <td>142507</td>\n",
       "      <td>140451</td>\n",
       "      <td>2898</td>\n",
       "      <td>92579.0</td>\n",
       "    </tr>\n",
       "    <tr>\n",
       "      <th>9</th>\n",
       "      <td>Octubre</td>\n",
       "      <td>131919</td>\n",
       "      <td>138349</td>\n",
       "      <td>140843</td>\n",
       "      <td>22302</td>\n",
       "      <td>NaN</td>\n",
       "    </tr>\n",
       "    <tr>\n",
       "      <th>10</th>\n",
       "      <td>Noviembre</td>\n",
       "      <td>149968</td>\n",
       "      <td>168282</td>\n",
       "      <td>159824</td>\n",
       "      <td>38266</td>\n",
       "      <td>NaN</td>\n",
       "    </tr>\n",
       "    <tr>\n",
       "      <th>11</th>\n",
       "      <td>Diciembre</td>\n",
       "      <td>198404</td>\n",
       "      <td>217358</td>\n",
       "      <td>205927</td>\n",
       "      <td>74816</td>\n",
       "      <td>NaN</td>\n",
       "    </tr>\n",
       "  </tbody>\n",
       "</table>\n",
       "</div>"
      ],
      "text/plain": [
       "           Mes  año2017  año2018  año2019  año2020  año2021\n",
       "7       Agosto   161281   179439   182376       15  94048.0\n",
       "8   Septiembre   135692   142507   140451     2898  92579.0\n",
       "9      Octubre   131919   138349   140843    22302      NaN\n",
       "10   Noviembre   149968   168282   159824    38266      NaN\n",
       "11   Diciembre   198404   217358   205927    74816      NaN"
      ]
     },
     "execution_count": 9,
     "metadata": {},
     "output_type": "execute_result"
    }
   ],
   "source": [
    "dft.tail()"
   ]
  },
  {
   "cell_type": "code",
   "execution_count": 12,
   "id": "c944b103",
   "metadata": {},
   "outputs": [],
   "source": [
    "a = dft.fillna(0) # new total tourism df with no NaN values"
   ]
  },
  {
   "cell_type": "code",
   "execution_count": 13,
   "id": "7b8ff420",
   "metadata": {},
   "outputs": [
    {
     "data": {
      "text/html": [
       "<div>\n",
       "<style scoped>\n",
       "    .dataframe tbody tr th:only-of-type {\n",
       "        vertical-align: middle;\n",
       "    }\n",
       "\n",
       "    .dataframe tbody tr th {\n",
       "        vertical-align: top;\n",
       "    }\n",
       "\n",
       "    .dataframe thead th {\n",
       "        text-align: right;\n",
       "    }\n",
       "</style>\n",
       "<table border=\"1\" class=\"dataframe\">\n",
       "  <thead>\n",
       "    <tr style=\"text-align: right;\">\n",
       "      <th></th>\n",
       "      <th>Mes</th>\n",
       "      <th>año2017</th>\n",
       "      <th>año2018</th>\n",
       "      <th>año2019</th>\n",
       "      <th>año2020</th>\n",
       "      <th>año2021</th>\n",
       "    </tr>\n",
       "  </thead>\n",
       "  <tbody>\n",
       "    <tr>\n",
       "      <th>0</th>\n",
       "      <td>Enero</td>\n",
       "      <td>134151</td>\n",
       "      <td>165197</td>\n",
       "      <td>160963</td>\n",
       "      <td>172554</td>\n",
       "      <td>43431.0</td>\n",
       "    </tr>\n",
       "    <tr>\n",
       "      <th>1</th>\n",
       "      <td>Febrero</td>\n",
       "      <td>150633</td>\n",
       "      <td>179985</td>\n",
       "      <td>182275</td>\n",
       "      <td>203114</td>\n",
       "      <td>39264.0</td>\n",
       "    </tr>\n",
       "    <tr>\n",
       "      <th>2</th>\n",
       "      <td>Marzo</td>\n",
       "      <td>143093</td>\n",
       "      <td>191521</td>\n",
       "      <td>183636</td>\n",
       "      <td>84808</td>\n",
       "      <td>56833.0</td>\n",
       "    </tr>\n",
       "    <tr>\n",
       "      <th>3</th>\n",
       "      <td>Abril</td>\n",
       "      <td>142095</td>\n",
       "      <td>154117</td>\n",
       "      <td>156779</td>\n",
       "      <td>2</td>\n",
       "      <td>42981.0</td>\n",
       "    </tr>\n",
       "    <tr>\n",
       "      <th>4</th>\n",
       "      <td>Mayo</td>\n",
       "      <td>124155</td>\n",
       "      <td>147973</td>\n",
       "      <td>146307</td>\n",
       "      <td>1</td>\n",
       "      <td>39317.0</td>\n",
       "    </tr>\n",
       "  </tbody>\n",
       "</table>\n",
       "</div>"
      ],
      "text/plain": [
       "       Mes  año2017  año2018  año2019  año2020  año2021\n",
       "0    Enero   134151   165197   160963   172554  43431.0\n",
       "1  Febrero   150633   179985   182275   203114  39264.0\n",
       "2   Marzo    143093   191521   183636    84808  56833.0\n",
       "3   Abril    142095   154117   156779        2  42981.0\n",
       "4     Mayo   124155   147973   146307        1  39317.0"
      ]
     },
     "execution_count": 13,
     "metadata": {},
     "output_type": "execute_result"
    }
   ],
   "source": [
    "a.head()"
   ]
  },
  {
   "cell_type": "code",
   "execution_count": 15,
   "id": "92b75e41",
   "metadata": {},
   "outputs": [
    {
     "data": {
      "text/html": [
       "<div>\n",
       "<style scoped>\n",
       "    .dataframe tbody tr th:only-of-type {\n",
       "        vertical-align: middle;\n",
       "    }\n",
       "\n",
       "    .dataframe tbody tr th {\n",
       "        vertical-align: top;\n",
       "    }\n",
       "\n",
       "    .dataframe thead th {\n",
       "        text-align: right;\n",
       "    }\n",
       "</style>\n",
       "<table border=\"1\" class=\"dataframe\">\n",
       "  <thead>\n",
       "    <tr style=\"text-align: right;\">\n",
       "      <th></th>\n",
       "      <th>Mes</th>\n",
       "      <th>año2017</th>\n",
       "      <th>año2018</th>\n",
       "      <th>año2019</th>\n",
       "      <th>año2020</th>\n",
       "      <th>año2021</th>\n",
       "    </tr>\n",
       "  </thead>\n",
       "  <tbody>\n",
       "    <tr>\n",
       "      <th>0</th>\n",
       "      <td>Enero</td>\n",
       "      <td>43375</td>\n",
       "      <td>55860</td>\n",
       "      <td>56274</td>\n",
       "      <td>58842.0</td>\n",
       "      <td>10329.0</td>\n",
       "    </tr>\n",
       "    <tr>\n",
       "      <th>1</th>\n",
       "      <td>Febrero</td>\n",
       "      <td>54363</td>\n",
       "      <td>65552</td>\n",
       "      <td>70479</td>\n",
       "      <td>76463.0</td>\n",
       "      <td>10531.0</td>\n",
       "    </tr>\n",
       "    <tr>\n",
       "      <th>2</th>\n",
       "      <td>Marzo</td>\n",
       "      <td>48589</td>\n",
       "      <td>67537</td>\n",
       "      <td>70863</td>\n",
       "      <td>31821.0</td>\n",
       "      <td>13742.0</td>\n",
       "    </tr>\n",
       "    <tr>\n",
       "      <th>3</th>\n",
       "      <td>Abril</td>\n",
       "      <td>43463</td>\n",
       "      <td>50966</td>\n",
       "      <td>52267</td>\n",
       "      <td>NaN</td>\n",
       "      <td>12087.0</td>\n",
       "    </tr>\n",
       "    <tr>\n",
       "      <th>4</th>\n",
       "      <td>Mayo</td>\n",
       "      <td>36656</td>\n",
       "      <td>46215</td>\n",
       "      <td>48208</td>\n",
       "      <td>NaN</td>\n",
       "      <td>10885.0</td>\n",
       "    </tr>\n",
       "  </tbody>\n",
       "</table>\n",
       "</div>"
      ],
      "text/plain": [
       "       Mes  año2017  año2018  año2019  año2020  año2021\n",
       "0    Enero    43375    55860    56274  58842.0  10329.0\n",
       "1  Febrero    54363    65552    70479  76463.0  10531.0\n",
       "2   Marzo     48589    67537    70863  31821.0  13742.0\n",
       "3   Abril     43463    50966    52267      NaN  12087.0\n",
       "4     Mayo    36656    46215    48208      NaN  10885.0"
      ]
     },
     "execution_count": 15,
     "metadata": {},
     "output_type": "execute_result"
    }
   ],
   "source": [
    "dfsb.head()"
   ]
  },
  {
   "cell_type": "code",
   "execution_count": 16,
   "id": "d7521d84",
   "metadata": {},
   "outputs": [],
   "source": [
    "b = dfsb.fillna(0) # new sun and beach df with no NaN values"
   ]
  },
  {
   "cell_type": "code",
   "execution_count": 17,
   "id": "3fea1488",
   "metadata": {},
   "outputs": [
    {
     "data": {
      "text/html": [
       "<div>\n",
       "<style scoped>\n",
       "    .dataframe tbody tr th:only-of-type {\n",
       "        vertical-align: middle;\n",
       "    }\n",
       "\n",
       "    .dataframe tbody tr th {\n",
       "        vertical-align: top;\n",
       "    }\n",
       "\n",
       "    .dataframe thead th {\n",
       "        text-align: right;\n",
       "    }\n",
       "</style>\n",
       "<table border=\"1\" class=\"dataframe\">\n",
       "  <thead>\n",
       "    <tr style=\"text-align: right;\">\n",
       "      <th></th>\n",
       "      <th>Mes</th>\n",
       "      <th>año2017</th>\n",
       "      <th>año2018</th>\n",
       "      <th>año2019</th>\n",
       "      <th>año2020</th>\n",
       "      <th>año2021</th>\n",
       "    </tr>\n",
       "  </thead>\n",
       "  <tbody>\n",
       "    <tr>\n",
       "      <th>0</th>\n",
       "      <td>Enero</td>\n",
       "      <td>43375</td>\n",
       "      <td>55860</td>\n",
       "      <td>56274</td>\n",
       "      <td>58842.0</td>\n",
       "      <td>10329.0</td>\n",
       "    </tr>\n",
       "    <tr>\n",
       "      <th>1</th>\n",
       "      <td>Febrero</td>\n",
       "      <td>54363</td>\n",
       "      <td>65552</td>\n",
       "      <td>70479</td>\n",
       "      <td>76463.0</td>\n",
       "      <td>10531.0</td>\n",
       "    </tr>\n",
       "    <tr>\n",
       "      <th>2</th>\n",
       "      <td>Marzo</td>\n",
       "      <td>48589</td>\n",
       "      <td>67537</td>\n",
       "      <td>70863</td>\n",
       "      <td>31821.0</td>\n",
       "      <td>13742.0</td>\n",
       "    </tr>\n",
       "    <tr>\n",
       "      <th>3</th>\n",
       "      <td>Abril</td>\n",
       "      <td>43463</td>\n",
       "      <td>50966</td>\n",
       "      <td>52267</td>\n",
       "      <td>0.0</td>\n",
       "      <td>12087.0</td>\n",
       "    </tr>\n",
       "    <tr>\n",
       "      <th>4</th>\n",
       "      <td>Mayo</td>\n",
       "      <td>36656</td>\n",
       "      <td>46215</td>\n",
       "      <td>48208</td>\n",
       "      <td>0.0</td>\n",
       "      <td>10885.0</td>\n",
       "    </tr>\n",
       "  </tbody>\n",
       "</table>\n",
       "</div>"
      ],
      "text/plain": [
       "       Mes  año2017  año2018  año2019  año2020  año2021\n",
       "0    Enero    43375    55860    56274  58842.0  10329.0\n",
       "1  Febrero    54363    65552    70479  76463.0  10531.0\n",
       "2   Marzo     48589    67537    70863  31821.0  13742.0\n",
       "3   Abril     43463    50966    52267      0.0  12087.0\n",
       "4     Mayo    36656    46215    48208      0.0  10885.0"
      ]
     },
     "execution_count": 17,
     "metadata": {},
     "output_type": "execute_result"
    }
   ],
   "source": [
    "b.head()"
   ]
  },
  {
   "cell_type": "markdown",
   "id": "ef32c323",
   "metadata": {},
   "source": [
    "# Looking for correlations between total tourist (a) vs. sun&beach tourist(b)"
   ]
  },
  {
   "cell_type": "markdown",
   "id": "26dd1960",
   "metadata": {},
   "source": [
    "STARTING WITH THE PANDEMIC YEARS (2020 and 2021)"
   ]
  },
  {
   "cell_type": "code",
   "execution_count": 18,
   "id": "fa28e340",
   "metadata": {},
   "outputs": [],
   "source": [
    "x = a['año2020']\n",
    "y = b['año2020']"
   ]
  },
  {
   "cell_type": "code",
   "execution_count": 19,
   "id": "ae8dfe04",
   "metadata": {},
   "outputs": [
    {
     "data": {
      "text/plain": [
       "(0.9855254485473857, 4.8839378248282894e-09)"
      ]
     },
     "execution_count": 19,
     "metadata": {},
     "output_type": "execute_result"
    }
   ],
   "source": [
    "scipy.stats.pearsonr(x, y) # Pearson correlation"
   ]
  },
  {
   "cell_type": "code",
   "execution_count": 20,
   "id": "0bc2a27c",
   "metadata": {},
   "outputs": [],
   "source": [
    "x = a['año2021']\n",
    "y = b['año2021']"
   ]
  },
  {
   "cell_type": "code",
   "execution_count": 21,
   "id": "bb0826d1",
   "metadata": {},
   "outputs": [
    {
     "data": {
      "text/plain": [
       "(0.9969957908809732, 1.9174568456585486e-12)"
      ]
     },
     "execution_count": 21,
     "metadata": {},
     "output_type": "execute_result"
    }
   ],
   "source": [
    "scipy.stats.pearsonr(x, y) # Pearson correlation"
   ]
  },
  {
   "cell_type": "markdown",
   "id": "9ca4bbff",
   "metadata": {},
   "source": [
    "The correlation coefficient (Pearson) is very strong for these years, 0.98 and 0.99 respectively."
   ]
  },
  {
   "cell_type": "markdown",
   "id": "fd97960b",
   "metadata": {},
   "source": [
    "CORRELATION FOR THE YEARS 2018 AND 2019 (PRE-PANDEMIC YEARS)"
   ]
  },
  {
   "cell_type": "code",
   "execution_count": 22,
   "id": "5cd93533",
   "metadata": {},
   "outputs": [],
   "source": [
    "x = a['año2018']\n",
    "y = b['año2018']"
   ]
  },
  {
   "cell_type": "code",
   "execution_count": 23,
   "id": "21d46ec8",
   "metadata": {},
   "outputs": [
    {
     "data": {
      "text/plain": [
       "(0.6529664796439565, 0.021328547191371047)"
      ]
     },
     "execution_count": 23,
     "metadata": {},
     "output_type": "execute_result"
    }
   ],
   "source": [
    "scipy.stats.pearsonr(x, y) # Pearson correlation"
   ]
  },
  {
   "cell_type": "code",
   "execution_count": 24,
   "id": "bd305cb8",
   "metadata": {},
   "outputs": [],
   "source": [
    "x = a['año2019']\n",
    "y = b['año2019']"
   ]
  },
  {
   "cell_type": "code",
   "execution_count": 25,
   "id": "c0d0c42c",
   "metadata": {},
   "outputs": [
    {
     "data": {
      "text/plain": [
       "(0.6360429926395192, 0.026195953129668784)"
      ]
     },
     "execution_count": 25,
     "metadata": {},
     "output_type": "execute_result"
    }
   ],
   "source": [
    "scipy.stats.pearsonr(x, y) # Pearson correlation"
   ]
  },
  {
   "cell_type": "markdown",
   "id": "de8ed221",
   "metadata": {},
   "source": [
    "The correlation coefficients (Pearson) are not stronger as the presented in the pandemic years (2020 and 2021)."
   ]
  },
  {
   "cell_type": "code",
   "execution_count": null,
   "id": "58be8ea6",
   "metadata": {},
   "outputs": [],
   "source": []
  }
 ],
 "metadata": {
  "kernelspec": {
   "display_name": "Python 3 (ipykernel)",
   "language": "python",
   "name": "python3"
  },
  "language_info": {
   "codemirror_mode": {
    "name": "ipython",
    "version": 3
   },
   "file_extension": ".py",
   "mimetype": "text/x-python",
   "name": "python",
   "nbconvert_exporter": "python",
   "pygments_lexer": "ipython3",
   "version": "3.8.8"
  }
 },
 "nbformat": 4,
 "nbformat_minor": 5
}
